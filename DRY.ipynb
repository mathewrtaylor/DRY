{
 "cells": [
  {
   "cell_type": "markdown",
   "id": "cb502190",
   "metadata": {},
   "source": [
    "<h1>Is it getting DRY in here?</h1>"
   ]
  },
  {
   "cell_type": "markdown",
   "id": "fa5489a7",
   "metadata": {},
   "source": [
    "Popularized by The Programatic Programmer <i>(Andrew Hunt/David Thomas Oct 1999)</i>, it's the principle that looks to optimize your code by reducing/eliminating the repitition in your code."
   ]
  },
  {
   "cell_type": "markdown",
   "id": "032a798d",
   "metadata": {},
   "source": [
    "In this tutorial, we'll cover the following topics: <br>\n",
    "<li> What is the DRY method and why is it important in software development?</li>\n",
    "<li> Examples of repetitve code and how the DRY method can improve it.</li>\n",
    "<li> How to apply the dry method in Python.</li>\n",
    "<li> The benefits of using the DRY method in Python.</li><br>\n",
    "Let's get started!\n",
    "\n",
    "***"
   ]
  },
  {
   "cell_type": "markdown",
   "id": "415177ed",
   "metadata": {},
   "source": [
    "<h2>What is the DRY method and why is it important in software development?</h2>\n",
    "\n",
    "***"
   ]
  },
  {
   "cell_type": "markdown",
   "id": "08187e02",
   "metadata": {},
   "source": [
    "The DRY method is a software development principle that encourages efficient and effective code writing by reducing redundancy in your code. The idea behind the DRY method is simple, if you have a piece of information or logic that is used in multiple places in your code, it should only be written once.<br><br>\n",
    "Why is this important? Well having redundant code can lead to maintence problems. If you need to change logic or information in your code, yopu would need to make the changes in multiple places, which can be time consuming, and depending on how much repetition there is, increasing the likelihood of making mistakes!"
   ]
  },
  {
   "cell_type": "markdown",
   "id": "82ad0f06",
   "metadata": {},
   "source": [
    "<img src=\"Bart.png\" />"
   ]
  },
  {
   "cell_type": "markdown",
   "id": "e03b7185",
   "metadata": {},
   "source": [
    "<h2>Examples of repetitve code and how the DRY method can improve it</h2>\n",
    "\n",
    "***"
   ]
  },
  {
   "cell_type": "markdown",
   "id": "8547170b",
   "metadata": {},
   "source": [
    "Let's take a look at a few examples of repetitive code, and see how the DRY method can improve it.<br><br>\n",
    "<i>Example 1:</i>"
   ]
  },
  {
   "cell_type": "code",
   "execution_count": null,
   "id": "0ececd72",
   "metadata": {},
   "outputs": [],
   "source": [
    "def calculate_sum(num1, num2):\n",
    "    return num1 + num2\n",
    "\n",
    "def calculate_difference(num1, num2):\n",
    "    return num1 - num2\n",
    "\n",
    "def calculate_product(num1, num2):\n",
    "    return num1 * num2\n",
    "\n",
    "print(calculate_sum(7,6))\n",
    "print(calculate_difference(7,6))\n",
    "print(calculate_product(7,6))"
   ]
  },
  {
   "cell_type": "markdown",
   "id": "097d6ae6",
   "metadata": {},
   "source": [
    "In this example, we have three functions that perform mathematical operations.  However, the code is redundant because the same basic calculation is being repetaed in each of the functions. The DRY method can improve this code by creating a single function accepts an operational parameter, like this:"
   ]
  },
  {
   "cell_type": "code",
   "execution_count": null,
   "id": "2360b1a1",
   "metadata": {},
   "outputs": [],
   "source": [
    "def calculate(num1, num2, operation):\n",
    "    if operation == 'sum':\n",
    "        return num1 + num2\n",
    "    elif operation == 'difference':\n",
    "        return num1 - num2\n",
    "    elif operation == 'product':\n",
    "        return num1 * num2\n",
    "\n",
    "print(calculate(7,6,'sum'))\n",
    "print(calculate(7,6,'difference'))\n",
    "print(calculate(7,6,'product'))"
   ]
  },
  {
   "cell_type": "markdown",
   "id": "1cff0269",
   "metadata": {},
   "source": [
    "<i>Example 2:</i>"
   ]
  },
  {
   "cell_type": "code",
   "execution_count": null,
   "id": "8c51a5ce",
   "metadata": {
    "scrolled": true
   },
   "outputs": [],
   "source": [
    "print('Enter your name:')\n",
    "name = input()\n",
    "print(f'Hello {name}, welcome to the DRY Tutorial.')\n",
    "\n",
    "print('Enter your age:')\n",
    "age = input()\n",
    "print(f'Your age is: {age} years old.')"
   ]
  },
  {
   "cell_type": "markdown",
   "id": "94dc3bc9",
   "metadata": {},
   "source": [
    "In this example, we have two input statements that ask for the user's name and age.  This code is redundant because the same basic input statment is being repeated.  The Dry method can improve this code by creating a single functions that accepts a prompt paramter, like this:"
   ]
  },
  {
   "cell_type": "code",
   "execution_count": null,
   "id": "e6b56b37",
   "metadata": {},
   "outputs": [],
   "source": [
    "def get_input(prompt):\n",
    "    print(prompt)\n",
    "    return input()\n",
    "\n",
    "name = get_input('Enter your name:')\n",
    "print(f'Hello {name}, welcome to the DRY Tutorial.')\n",
    "\n",
    "age = get_input('Enter your age:')\n",
    "print(f'Your age is: {age} years old.')"
   ]
  },
  {
   "cell_type": "markdown",
   "id": "2adf7718",
   "metadata": {},
   "source": [
    "<h2> How to apply the DRY method in Python</h2>\n",
    "\n",
    "***"
   ]
  },
  {
   "cell_type": "markdown",
   "id": "d2a2202f",
   "metadata": {},
   "source": [
    "There are several ways to apply the DRY method in Python, including:"
   ]
  },
  {
   "cell_type": "markdown",
   "id": "b4770aba",
   "metadata": {},
   "source": [
    "<b>Functions</b> Functions can help eliminate redundant code by encapsulating common logic and information. Functions allow you to define a peice of code once, then reuse it multiple times throughout tyour script or program.<br>\n",
    "<i>Example:</i>"
   ]
  },
  {
   "cell_type": "code",
   "execution_count": null,
   "id": "b09cefaf",
   "metadata": {},
   "outputs": [],
   "source": [
    "def number_of_digits(number):\n",
    "    counter = 0\n",
    "    \n",
    "    while number != 0:\n",
    "        counter += 1\n",
    "        number //= 10\n",
    "    return(counter)\n",
    "\n",
    "print(number_of_digits(347982))"
   ]
  },
  {
   "cell_type": "markdown",
   "id": "90fa5130",
   "metadata": {},
   "source": [
    "<b>Classes</b> Classes are another great way to reduce redundancy in your code.  Classes allow you to encapsulate data and behavior into a single entity and then reuse that entity throughout your program.<br>\n",
    "<i>Example:</i>"
   ]
  },
  {
   "cell_type": "code",
   "execution_count": null,
   "id": "0c36d0a2",
   "metadata": {},
   "outputs": [],
   "source": [
    "class Person:\n",
    "    def __init__(self, name, age):\n",
    "        self.name = name\n",
    "        self.age = age\n",
    "\n",
    "p1 = Person('Johnny',24)\n",
    "\n",
    "print(f'{p1.name} is {p1.age} years old.')"
   ]
  },
  {
   "cell_type": "markdown",
   "id": "e249570b",
   "metadata": {},
   "source": [
    "<b>Modules</b> Modules allow you to break your code into smaller, reuseable componnents. You can then import these modules into other parts of your program, eliminating the need to rewrite the same code over and over again.<br>\n",
    "<i>Example:</i><br>\n",
    "\n",
    "Creating a file in the same directory called greetingmod.py with the following contents:"
   ]
  },
  {
   "cell_type": "code",
   "execution_count": null,
   "id": "13f7418b",
   "metadata": {},
   "outputs": [],
   "source": [
    "def greeting(name):\n",
    "    print(f'Hey there {name}, pleased to meet you.'"
   ]
  },
  {
   "cell_type": "markdown",
   "id": "c946a2e8",
   "metadata": {},
   "source": [
    "Now you can import it and use it!"
   ]
  },
  {
   "cell_type": "code",
   "execution_count": null,
   "id": "2ebe12d7",
   "metadata": {},
   "outputs": [],
   "source": [
    "import greetingmod\n",
    "\n",
    "greetingmod.greeting('Susie')"
   ]
  },
  {
   "cell_type": "markdown",
   "id": "31202029",
   "metadata": {},
   "source": [
    "<h2> The Benefits of using the DRY method in Python </h2>\n",
    "\n",
    "***"
   ]
  },
  {
   "cell_type": "markdown",
   "id": "4c861268",
   "metadata": {},
   "source": [
    "Now that we've covered how to apply the DRY method in Python, let's talk about the benefits of using this method:\n",
    "<ol>\n",
    "    <li>Increased Readability. When using the DRY method, your code becomes more concise and easier to read.  This makes it easier for other Developers to understand and maintain your code</li>\n",
    "    <li>Reduced maintenance costs. As your code becomes more concise and easier to read, the cost to maintain your code decreases, because you'll spend less time fixing bugs and making changes to your code in the future.</li>\n",
    "    <li>Increased development speed.  When using the DRY method, you can write code faster because you don't have to repeat the same logic over and over.</li>\n",
    "    <li>Improved code reliability. When you use the DRY method, your code becomes more reliable becuase you reduce the likelihood of making mistakes. This is because if you need to change a bit of your code, you only have to change it in one place, reducing the risk of introducing bugs into your program.</li>\n",
    "</ol>"
   ]
  },
  {
   "cell_type": "markdown",
   "id": "990cca8c",
   "metadata": {},
   "source": [
    "<h2>Conclusion</h2>\n",
    "\n",
    "***"
   ]
  },
  {
   "cell_type": "markdown",
   "id": "7a75a242",
   "metadata": {},
   "source": [
    "In conclusion, the DRY method is a software development principle that encourages efficient and effective code writing. By reducing redundancy in your code, you can improve readability, speed, maintainability and reliability off your code!"
   ]
  },
  {
   "cell_type": "markdown",
   "id": "f1c0ead0",
   "metadata": {},
   "source": [
    "\n",
    "***"
   ]
  },
  {
   "cell_type": "markdown",
   "id": "d5ebf097",
   "metadata": {},
   "source": [
    "<h3>Challenge Time!</h3>"
   ]
  },
  {
   "cell_type": "markdown",
   "id": "c903abdf",
   "metadata": {},
   "source": [
    "Now, time to put your new knowledge to the test! Take some of your own code that has some redundancy in it, and paste it below.<br> <h5>Before</h5>"
   ]
  },
  {
   "cell_type": "code",
   "execution_count": null,
   "id": "9f7ac0de",
   "metadata": {},
   "outputs": [],
   "source": []
  },
  {
   "cell_type": "markdown",
   "id": "c36be29b",
   "metadata": {},
   "source": [
    "Now, apply your knowledge of the DRY method, and convert your code into a function, class or module.<br><h5>After</h5>"
   ]
  },
  {
   "cell_type": "code",
   "execution_count": null,
   "id": "0ca5bc8c",
   "metadata": {},
   "outputs": [],
   "source": []
  },
  {
   "cell_type": "markdown",
   "id": "ec959086",
   "metadata": {},
   "source": [
    "Congratulations, and well done! Take this method with you going forward! This is the way!"
   ]
  },
  {
   "cell_type": "markdown",
   "id": "96b772ea",
   "metadata": {},
   "source": [
    "<img src=\"ThisIsTheWay.jpg\" />"
   ]
  }
 ],
 "metadata": {
  "kernelspec": {
   "display_name": "Python 3 (ipykernel)",
   "language": "python",
   "name": "python3"
  },
  "language_info": {
   "codemirror_mode": {
    "name": "ipython",
    "version": 3
   },
   "file_extension": ".py",
   "mimetype": "text/x-python",
   "name": "python",
   "nbconvert_exporter": "python",
   "pygments_lexer": "ipython3",
   "version": "3.9.7"
  }
 },
 "nbformat": 4,
 "nbformat_minor": 5
}
